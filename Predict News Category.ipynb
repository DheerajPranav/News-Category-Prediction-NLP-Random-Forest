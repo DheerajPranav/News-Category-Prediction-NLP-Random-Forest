{
 "cells": [
  {
   "cell_type": "markdown",
   "metadata": {
    "colab_type": "text",
    "id": "0NSxBlHb_DX8"
   },
   "source": [
    "From the beginning, since the first printed newspaper, every news that makes into a page has had a specific section allotted to it. Although pretty much everything changed in newspapers from the ink to the type of paper used, this proper categorization of news was carried over by generations and even to the digital versions of the newspaper. Newspaper articles are not limited to a few topics or subjects, it covers a wide range of interests from politics to sports to movies and so on. For long, this process of sectioning was done manually by people but now technology can do it without much effort. In this hackathon, Data Science and Machine Learning enthusiasts like you will use Natural Language Processing to predict which genre or category a piece of news will fall in to from the story."
   ]
  },
  {
   "cell_type": "markdown",
   "metadata": {
    "colab_type": "text",
    "id": "dBItrDAz_DX_"
   },
   "source": [
    "# FEATURES:\n",
    "\n",
    "## STORY:  A part of the main content of the article to be published as a piece of news.\n",
    "## SECTION: The genre/category the STORY falls in.\n",
    "\n",
    "There are four distinct sections where each story may fall in to. The Sections are labelled as follows :\n",
    "\n",
    "* Politics: 0\n",
    "* Technology: 1\n",
    "* Entertainment: 2\n",
    "* Business: 3"
   ]
  },
  {
   "cell_type": "code",
   "execution_count": 2,
   "metadata": {
    "colab": {
     "base_uri": "https://localhost:8080/",
     "height": 51
    },
    "colab_type": "code",
    "id": "TEJI0n10_DYA",
    "outputId": "40e078f8-7b69-4144-99d1-660c41d30f96"
   },
   "outputs": [
    {
     "name": "stderr",
     "output_type": "stream",
     "text": [
      "[nltk_data] Downloading package stopwords to\n",
      "[nltk_data]     C:\\Users\\LENOVO\\AppData\\Roaming\\nltk_data...\n",
      "[nltk_data]   Package stopwords is already up-to-date!\n"
     ]
    }
   ],
   "source": [
    "# importing libraries\n",
    "\n",
    "import numpy as np\n",
    "import pandas as pd\n",
    "import matplotlib.pyplot as plt\n",
    "import seaborn as sns\n",
    "%matplotlib inline\n",
    "\n",
    "from nltk.stem import WordNetLemmatizer\n",
    "\n",
    "from sklearn.model_selection import train_test_split\n",
    "from wordcloud import WordCloud\n",
    "from collections import Counter\n",
    "from nltk.corpus import stopwords\n",
    "from nltk.util import ngrams\n",
    "from sklearn.feature_extraction.text import TfidfVectorizer\n",
    "import nltk\n",
    "\n",
    "from nltk.corpus import stopwords\n",
    "nltk.download('stopwords')\n",
    "stop_words = stopwords.words(\"english\")"
   ]
  },
  {
   "cell_type": "code",
   "execution_count": 4,
   "metadata": {
    "colab": {},
    "colab_type": "code",
    "id": "4AZrkb2b_DYE"
   },
   "outputs": [],
   "source": [
    "train = pd.read_csv(\"Desktop\\\\TrainDataset.csv\")\n",
    "test = pd.read_csv(\"Desktop\\\\TestDataset.csv\")\n",
    "train_=train.copy()"
   ]
  },
  {
   "cell_type": "code",
   "execution_count": 5,
   "metadata": {
    "colab": {
     "base_uri": "https://localhost:8080/",
     "height": 204
    },
    "colab_type": "code",
    "id": "hKvdlso8_DYH",
    "outputId": "04dbfbf8-e29d-4818-e439-5929a03d9662",
    "scrolled": true
   },
   "outputs": [
    {
     "data": {
      "text/html": [
       "<div>\n",
       "<style scoped>\n",
       "    .dataframe tbody tr th:only-of-type {\n",
       "        vertical-align: middle;\n",
       "    }\n",
       "\n",
       "    .dataframe tbody tr th {\n",
       "        vertical-align: top;\n",
       "    }\n",
       "\n",
       "    .dataframe thead th {\n",
       "        text-align: right;\n",
       "    }\n",
       "</style>\n",
       "<table border=\"1\" class=\"dataframe\">\n",
       "  <thead>\n",
       "    <tr style=\"text-align: right;\">\n",
       "      <th></th>\n",
       "      <th>STORY</th>\n",
       "      <th>SECTION</th>\n",
       "    </tr>\n",
       "  </thead>\n",
       "  <tbody>\n",
       "    <tr>\n",
       "      <td>0</td>\n",
       "      <td>The roadshow and the filing of nomination pape...</td>\n",
       "      <td>0</td>\n",
       "    </tr>\n",
       "    <tr>\n",
       "      <td>1</td>\n",
       "      <td>These vulnerabilities could have allowed hacke...</td>\n",
       "      <td>1</td>\n",
       "    </tr>\n",
       "    <tr>\n",
       "      <td>2</td>\n",
       "      <td>\"People will now be able to include music in t...</td>\n",
       "      <td>1</td>\n",
       "    </tr>\n",
       "    <tr>\n",
       "      <td>3</td>\n",
       "      <td>Jersey is expected to have a good start at the...</td>\n",
       "      <td>2</td>\n",
       "    </tr>\n",
       "    <tr>\n",
       "      <td>4</td>\n",
       "      <td>Xiaomi’s unveiling also hints at how Samsung i...</td>\n",
       "      <td>1</td>\n",
       "    </tr>\n",
       "  </tbody>\n",
       "</table>\n",
       "</div>"
      ],
      "text/plain": [
       "                                               STORY  SECTION\n",
       "0  The roadshow and the filing of nomination pape...        0\n",
       "1  These vulnerabilities could have allowed hacke...        1\n",
       "2  \"People will now be able to include music in t...        1\n",
       "3  Jersey is expected to have a good start at the...        2\n",
       "4  Xiaomi’s unveiling also hints at how Samsung i...        1"
      ]
     },
     "execution_count": 5,
     "metadata": {},
     "output_type": "execute_result"
    }
   ],
   "source": [
    "train.head()"
   ]
  },
  {
   "cell_type": "code",
   "execution_count": 6,
   "metadata": {},
   "outputs": [
    {
     "data": {
      "text/plain": [
       "6102"
      ]
     },
     "execution_count": 6,
     "metadata": {},
     "output_type": "execute_result"
    }
   ],
   "source": [
    "len(train)"
   ]
  },
  {
   "cell_type": "code",
   "execution_count": 7,
   "metadata": {
    "colab": {
     "base_uri": "https://localhost:8080/",
     "height": 102
    },
    "colab_type": "code",
    "id": "wUfoaaF9_DYL",
    "outputId": "8da4721d-01d4-4744-9383-9d062e5e576a"
   },
   "outputs": [
    {
     "data": {
      "text/plain": [
       "1    2224\n",
       "2    1524\n",
       "0    1341\n",
       "3    1013\n",
       "Name: SECTION, dtype: int64"
      ]
     },
     "execution_count": 7,
     "metadata": {},
     "output_type": "execute_result"
    }
   ],
   "source": [
    "train.SECTION.value_counts()"
   ]
  },
  {
   "cell_type": "code",
   "execution_count": 8,
   "metadata": {
    "colab": {
     "base_uri": "https://localhost:8080/",
     "height": 136
    },
    "colab_type": "code",
    "id": "ldJw_uNQ_DYO",
    "outputId": "5eda898a-9d89-44d9-fc03-fee482f3e205",
    "scrolled": true
   },
   "outputs": [
    {
     "name": "stdout",
     "output_type": "stream",
     "text": [
      "<class 'pandas.core.frame.DataFrame'>\n",
      "RangeIndex: 6102 entries, 0 to 6101\n",
      "Data columns (total 2 columns):\n",
      "STORY      6102 non-null object\n",
      "SECTION    6102 non-null int64\n",
      "dtypes: int64(1), object(1)\n",
      "memory usage: 95.5+ KB\n"
     ]
    }
   ],
   "source": [
    "train.info()"
   ]
  },
  {
   "cell_type": "code",
   "execution_count": 9,
   "metadata": {
    "colab": {
     "base_uri": "https://localhost:8080/",
     "height": 204
    },
    "colab_type": "code",
    "id": "zssq3Sgu_DYR",
    "outputId": "df5c7e80-b8c8-4b10-f04f-14e2d8ab4abe"
   },
   "outputs": [
    {
     "data": {
      "text/html": [
       "<div>\n",
       "<style scoped>\n",
       "    .dataframe tbody tr th:only-of-type {\n",
       "        vertical-align: middle;\n",
       "    }\n",
       "\n",
       "    .dataframe tbody tr th {\n",
       "        vertical-align: top;\n",
       "    }\n",
       "\n",
       "    .dataframe thead th {\n",
       "        text-align: right;\n",
       "    }\n",
       "</style>\n",
       "<table border=\"1\" class=\"dataframe\">\n",
       "  <thead>\n",
       "    <tr style=\"text-align: right;\">\n",
       "      <th></th>\n",
       "      <th>STORY</th>\n",
       "    </tr>\n",
       "  </thead>\n",
       "  <tbody>\n",
       "    <tr>\n",
       "      <td>0</td>\n",
       "      <td>The roadshow and the filing of nomination pape...</td>\n",
       "    </tr>\n",
       "    <tr>\n",
       "      <td>1</td>\n",
       "      <td>These vulnerabilities could have allowed hacke...</td>\n",
       "    </tr>\n",
       "    <tr>\n",
       "      <td>2</td>\n",
       "      <td>\"People will now be able to include music in t...</td>\n",
       "    </tr>\n",
       "    <tr>\n",
       "      <td>3</td>\n",
       "      <td>Jersey is expected to have a good start at the...</td>\n",
       "    </tr>\n",
       "    <tr>\n",
       "      <td>4</td>\n",
       "      <td>Xiaomi’s unveiling also hints at how Samsung i...</td>\n",
       "    </tr>\n",
       "  </tbody>\n",
       "</table>\n",
       "</div>"
      ],
      "text/plain": [
       "                                               STORY\n",
       "0  The roadshow and the filing of nomination pape...\n",
       "1  These vulnerabilities could have allowed hacke...\n",
       "2  \"People will now be able to include music in t...\n",
       "3  Jersey is expected to have a good start at the...\n",
       "4  Xiaomi’s unveiling also hints at how Samsung i..."
      ]
     },
     "execution_count": 9,
     "metadata": {},
     "output_type": "execute_result"
    }
   ],
   "source": [
    "X=train.drop('SECTION', axis = 1)\n",
    "Y=train.drop('STORY', axis = 1)\n",
    "X.head()"
   ]
  },
  {
   "cell_type": "code",
   "execution_count": 10,
   "metadata": {
    "colab": {
     "base_uri": "https://localhost:8080/",
     "height": 204
    },
    "colab_type": "code",
    "id": "8qKJy-pr_DYU",
    "outputId": "be715b3a-5c5c-4e18-e015-5bff0873ac7e",
    "scrolled": false
   },
   "outputs": [
    {
     "data": {
      "text/html": [
       "<div>\n",
       "<style scoped>\n",
       "    .dataframe tbody tr th:only-of-type {\n",
       "        vertical-align: middle;\n",
       "    }\n",
       "\n",
       "    .dataframe tbody tr th {\n",
       "        vertical-align: top;\n",
       "    }\n",
       "\n",
       "    .dataframe thead th {\n",
       "        text-align: right;\n",
       "    }\n",
       "</style>\n",
       "<table border=\"1\" class=\"dataframe\">\n",
       "  <thead>\n",
       "    <tr style=\"text-align: right;\">\n",
       "      <th></th>\n",
       "      <th>SECTION</th>\n",
       "    </tr>\n",
       "  </thead>\n",
       "  <tbody>\n",
       "    <tr>\n",
       "      <td>0</td>\n",
       "      <td>0</td>\n",
       "    </tr>\n",
       "    <tr>\n",
       "      <td>1</td>\n",
       "      <td>1</td>\n",
       "    </tr>\n",
       "    <tr>\n",
       "      <td>2</td>\n",
       "      <td>1</td>\n",
       "    </tr>\n",
       "    <tr>\n",
       "      <td>3</td>\n",
       "      <td>2</td>\n",
       "    </tr>\n",
       "    <tr>\n",
       "      <td>4</td>\n",
       "      <td>1</td>\n",
       "    </tr>\n",
       "  </tbody>\n",
       "</table>\n",
       "</div>"
      ],
      "text/plain": [
       "   SECTION\n",
       "0        0\n",
       "1        1\n",
       "2        1\n",
       "3        2\n",
       "4        1"
      ]
     },
     "execution_count": 10,
     "metadata": {},
     "output_type": "execute_result"
    }
   ],
   "source": [
    "Y.head()"
   ]
  },
  {
   "cell_type": "markdown",
   "metadata": {
    "colab_type": "text",
    "id": "89hHQFmX_DYX"
   },
   "source": [
    "## Data Cleaning and Pre processing\n",
    "\n",
    "### step is to create features from our data so we can train the machine learning models. The steps followed are:\n",
    "\n",
    "cleaning of extra spaces or lines, lower casing, punctuation signs, possessive pronouns and stop words removal and lemmatization."
   ]
  },
  {
   "cell_type": "markdown",
   "metadata": {
    "colab_type": "text",
    "id": "kvxA103o_DYY"
   },
   "source": [
    "#### 1.Removal of extra spaces"
   ]
  },
  {
   "cell_type": "code",
   "execution_count": 11,
   "metadata": {
    "colab": {},
    "colab_type": "code",
    "id": "Qlsdr5XT_DYZ"
   },
   "outputs": [],
   "source": [
    "for i in [train,test]:\n",
    "  i['STORY'] = i['STORY'].str.replace(\"\\n\", \" \")\n",
    "  i['STORY'] = i['STORY'].str.replace(\"    \", \" \")\n"
   ]
  },
  {
   "cell_type": "code",
   "execution_count": 12,
   "metadata": {
    "colab": {
     "base_uri": "https://localhost:8080/",
     "height": 54
    },
    "colab_type": "code",
    "id": "pf92nMjxKWXz",
    "outputId": "9652d17a-a6c6-4f96-8960-438ef26ff0cb"
   },
   "outputs": [
    {
     "data": {
      "text/plain": [
       "'The roadshow and the filing of nomination papers are also an attempt to show the strength of the ruling BJP in the eastern UP region, as several ministers and allies of the party are in Varanasi for the filing of nomination, expected on Friday.   BJP won 17 of the 18 Lok Sabha seats in the region in 2014, losing only Azamgarh to Samajwadi Party patriarch Mulayam Singh Yadav. It repeated the performance in the 2017 assembly polls, when it returned to power in Uttar Pradesh after a gap of 15 years.   BJP leaders said Modi visits Varanasi every few months and meets its residents. In the last five years, he had been to Varanasi at least 30 times, they said.   Finance minister Arun Jaitley tweeted that Modi’s roadshow that culminated with the customary Ganga aarti, “expresses only one indication\"—that the PM “is well on the way of repeating or even increasing the 2014 victory margin\".'"
      ]
     },
     "execution_count": 12,
     "metadata": {},
     "output_type": "execute_result"
    }
   ],
   "source": [
    "train.loc[0]['STORY']"
   ]
  },
  {
   "cell_type": "markdown",
   "metadata": {
    "colab_type": "text",
    "id": "B9PFG971_DYd"
   },
   "source": [
    "#### 2. Upcase/downcase\n",
    "\n",
    "\n"
   ]
  },
  {
   "cell_type": "code",
   "execution_count": 13,
   "metadata": {
    "colab": {},
    "colab_type": "code",
    "id": "ZdDv4Q1p_DYd"
   },
   "outputs": [],
   "source": [
    "# Lowercasing the text\n",
    "\n",
    "for i in [train,test]:\n",
    "  i['STORY'] = i['STORY'].str.lower()"
   ]
  },
  {
   "cell_type": "code",
   "execution_count": 14,
   "metadata": {
    "colab": {
     "base_uri": "https://localhost:8080/",
     "height": 54
    },
    "colab_type": "code",
    "id": "DNPe17-AKVHs",
    "outputId": "6cd1152b-a36d-4db4-b8f7-37bd5494ffd7"
   },
   "outputs": [
    {
     "data": {
      "text/plain": [
       "'the roadshow and the filing of nomination papers are also an attempt to show the strength of the ruling bjp in the eastern up region, as several ministers and allies of the party are in varanasi for the filing of nomination, expected on friday.   bjp won 17 of the 18 lok sabha seats in the region in 2014, losing only azamgarh to samajwadi party patriarch mulayam singh yadav. it repeated the performance in the 2017 assembly polls, when it returned to power in uttar pradesh after a gap of 15 years.   bjp leaders said modi visits varanasi every few months and meets its residents. in the last five years, he had been to varanasi at least 30 times, they said.   finance minister arun jaitley tweeted that modi’s roadshow that culminated with the customary ganga aarti, “expresses only one indication\"—that the pm “is well on the way of repeating or even increasing the 2014 victory margin\".'"
      ]
     },
     "execution_count": 14,
     "metadata": {},
     "output_type": "execute_result"
    }
   ],
   "source": [
    "train.loc[0]['STORY']"
   ]
  },
  {
   "cell_type": "markdown",
   "metadata": {
    "colab_type": "text",
    "id": "igsdNirJ_DYg"
   },
   "source": [
    "#### 3. Removal of punctuations"
   ]
  },
  {
   "cell_type": "code",
   "execution_count": 15,
   "metadata": {
    "colab": {},
    "colab_type": "code",
    "id": "u6WVo9Rs_DYh",
    "scrolled": false
   },
   "outputs": [],
   "source": [
    "\n",
    "import string\n",
    "for i in [train,test]:\n",
    "  i['STORY']=i['STORY'].str.replace('[{}]'.format(string.punctuation), '')"
   ]
  },
  {
   "cell_type": "code",
   "execution_count": 16,
   "metadata": {
    "colab": {},
    "colab_type": "code",
    "id": "qv9YtZpo_DYj"
   },
   "outputs": [],
   "source": [
    "# \" when quoting text\n",
    "for i in [train,test]:\n",
    "  i['STORY'] = i['STORY'].str.replace('\"', '')"
   ]
  },
  {
   "cell_type": "code",
   "execution_count": 17,
   "metadata": {
    "colab": {
     "base_uri": "https://localhost:8080/",
     "height": 54
    },
    "colab_type": "code",
    "id": "AhjU1AgSKTya",
    "outputId": "529cc8c2-2a1c-49d9-bfbd-6865ec56f71b"
   },
   "outputs": [
    {
     "data": {
      "text/plain": [
       "'the roadshow and the filing of nomination papers are also an attempt to show the strength of the ruling bjp in the eastern up region as several ministers and allies of the party are in varanasi for the filing of nomination expected on friday   bjp won 17 of the 18 lok sabha seats in the region in 2014 losing only azamgarh to samajwadi party patriarch mulayam singh yadav it repeated the performance in the 2017 assembly polls when it returned to power in uttar pradesh after a gap of 15 years   bjp leaders said modi visits varanasi every few months and meets its residents in the last five years he had been to varanasi at least 30 times they said   finance minister arun jaitley tweeted that modi’s roadshow that culminated with the customary ganga aarti “expresses only one indication—that the pm “is well on the way of repeating or even increasing the 2014 victory margin'"
      ]
     },
     "execution_count": 17,
     "metadata": {},
     "output_type": "execute_result"
    }
   ],
   "source": [
    "train.loc[0]['STORY']"
   ]
  },
  {
   "cell_type": "markdown",
   "metadata": {
    "colab_type": "text",
    "id": "-jy7RYoo_DYl"
   },
   "source": [
    "#### 4. Possessive pronouns\n",
    "We'll also remove possessive pronoun terminations:\n",
    "\n"
   ]
  },
  {
   "cell_type": "code",
   "execution_count": 18,
   "metadata": {
    "colab": {},
    "colab_type": "code",
    "id": "RzLAk4Dm_DYm"
   },
   "outputs": [],
   "source": [
    "for i in [train,test]:\n",
    "  i['STORY'] = i['STORY'].str.replace(\"'s\", \"\")"
   ]
  },
  {
   "cell_type": "code",
   "execution_count": 19,
   "metadata": {
    "colab": {
     "base_uri": "https://localhost:8080/",
     "height": 54
    },
    "colab_type": "code",
    "id": "EWanS_oCKSrz",
    "outputId": "71fdb3fa-6e8f-47db-e5e7-15e17c613034"
   },
   "outputs": [
    {
     "data": {
      "text/plain": [
       "'the roadshow and the filing of nomination papers are also an attempt to show the strength of the ruling bjp in the eastern up region as several ministers and allies of the party are in varanasi for the filing of nomination expected on friday   bjp won 17 of the 18 lok sabha seats in the region in 2014 losing only azamgarh to samajwadi party patriarch mulayam singh yadav it repeated the performance in the 2017 assembly polls when it returned to power in uttar pradesh after a gap of 15 years   bjp leaders said modi visits varanasi every few months and meets its residents in the last five years he had been to varanasi at least 30 times they said   finance minister arun jaitley tweeted that modi’s roadshow that culminated with the customary ganga aarti “expresses only one indication—that the pm “is well on the way of repeating or even increasing the 2014 victory margin'"
      ]
     },
     "execution_count": 19,
     "metadata": {},
     "output_type": "execute_result"
    }
   ],
   "source": [
    "train.loc[0]['STORY']"
   ]
  },
  {
   "cell_type": "markdown",
   "metadata": {
    "colab_type": "text",
    "id": "LOPPEgmD_DYp"
   },
   "source": [
    "#### 5. Stemming and Lemmatization\n",
    "\n",
    "Since stemming can produce output words that don't exist, we'll only use a lemmatization process at this moment. Lemmatization takes into consideration the morphological analysis of the words and returns words that do exist, so it will be more useful for us."
   ]
  },
  {
   "cell_type": "code",
   "execution_count": 20,
   "metadata": {
    "colab": {
     "base_uri": "https://localhost:8080/",
     "height": 68
    },
    "colab_type": "code",
    "id": "EYIH12B1_DYq",
    "outputId": "89b5bef7-ba12-43c8-f491-618b39bf59ad",
    "scrolled": true
   },
   "outputs": [
    {
     "name": "stderr",
     "output_type": "stream",
     "text": [
      "[nltk_data] Downloading package wordnet to\n",
      "[nltk_data]     C:\\Users\\LENOVO\\AppData\\Roaming\\nltk_data...\n",
      "[nltk_data]   Package wordnet is already up-to-date!\n"
     ]
    },
    {
     "data": {
      "text/plain": [
       "True"
      ]
     },
     "execution_count": 20,
     "metadata": {},
     "output_type": "execute_result"
    }
   ],
   "source": [
    "nltk.download('wordnet')\n"
   ]
  },
  {
   "cell_type": "code",
   "execution_count": 21,
   "metadata": {
    "colab": {},
    "colab_type": "code",
    "id": "nAaGh3ml_DYt"
   },
   "outputs": [],
   "source": [
    "\n",
    "# Saving the lemmatizer into an object\n",
    "wordnet_lemmatizer = WordNetLemmatizer()"
   ]
  },
  {
   "cell_type": "code",
   "execution_count": 22,
   "metadata": {
    "colab": {},
    "colab_type": "code",
    "id": "WgC7n_c3_DYw"
   },
   "outputs": [],
   "source": [
    "x = []\n",
    "\n",
    "df=len(train)\n",
    "for i in range(0, df):    \n",
    "    x_list = []\n",
    "    # Save the text and its words into an object\n",
    "    text = train.loc[i]['STORY']\n",
    "    words = text.split(\" \")\n",
    "\n",
    "    for j in words:\n",
    "        x_list.append(wordnet_lemmatizer.lemmatize(j, pos=\"v\"))\n",
    "        \n",
    "    # Join the list\n",
    "    x_text = \" \".join(x_list)\n",
    "    \n",
    "    # Append to the list containing the texts\n",
    "    x.append(x_text)"
   ]
  },
  {
   "cell_type": "code",
   "execution_count": 23,
   "metadata": {
    "colab": {},
    "colab_type": "code",
    "id": "29flasaETOaf"
   },
   "outputs": [],
   "source": [
    "train['STORY'] = x\n"
   ]
  },
  {
   "cell_type": "code",
   "execution_count": 24,
   "metadata": {
    "colab": {},
    "colab_type": "code",
    "id": "by4A6zKeSuJa"
   },
   "outputs": [],
   "source": [
    "xts = []\n",
    "\n",
    "df=len(test)\n",
    "for i in range(0, df):    \n",
    "    x_list = []\n",
    "    # Save the text and its words into an object\n",
    "    text = test.loc[i]['STORY']\n",
    "    words = text.split(\" \")\n",
    "\n",
    "    for j in words:\n",
    "        x_list.append(wordnet_lemmatizer.lemmatize(j, pos=\"v\"))\n",
    "        \n",
    "    # Join the list\n",
    "    x_text = \" \".join(x_list)\n",
    "    \n",
    "    # Append to the list containing the texts\n",
    "    xts.append(x_text)"
   ]
  },
  {
   "cell_type": "code",
   "execution_count": 25,
   "metadata": {
    "colab": {},
    "colab_type": "code",
    "id": "WOgYsmNa_DYz"
   },
   "outputs": [],
   "source": [
    "test['STORY'] = xts\n"
   ]
  },
  {
   "cell_type": "code",
   "execution_count": 26,
   "metadata": {
    "colab": {
     "base_uri": "https://localhost:8080/",
     "height": 54
    },
    "colab_type": "code",
    "id": "VVNJIm-nKOSC",
    "outputId": "abf67410-34a3-4b2f-912c-012e23f7ddd0"
   },
   "outputs": [
    {
     "data": {
      "text/plain": [
       "'privilege to have do this candid and completely non political freewheel conversation with our pm narendramodi” kumar write on the microblogging site   modi reply to the tweet say “dear akshaykumar it be good talk to you about everything except politics and elections  i’m sure people would like watch our conversation'"
      ]
     },
     "execution_count": 26,
     "metadata": {},
     "output_type": "execute_result"
    }
   ],
   "source": [
    "test.loc[0]['STORY']"
   ]
  },
  {
   "cell_type": "markdown",
   "metadata": {
    "colab_type": "text",
    "id": "aNsJEp0cFRJ8"
   },
   "source": [
    "#### 6. Stop words"
   ]
  },
  {
   "cell_type": "code",
   "execution_count": 27,
   "metadata": {
    "colab": {},
    "colab_type": "code",
    "id": "OVeDFllQFfQ6"
   },
   "outputs": [],
   "source": [
    "for i in stop_words:\n",
    "    stopw = r\"\\b\" + i + r\"\\b\"\n",
    "    train['STORY'] = train['STORY'].str.replace(stopw, '')\n",
    "    stopw= r\"\\b\" + i + r\"\\b\"\n",
    "    test['STORY'] = test['STORY'].str.replace(stopw, '')\n"
   ]
  },
  {
   "cell_type": "code",
   "execution_count": 28,
   "metadata": {
    "colab": {
     "base_uri": "https://localhost:8080/",
     "height": 54
    },
    "colab_type": "code",
    "id": "4fut1YsPJ_dN",
    "outputId": "c5c5ba29-7ed8-4390-d898-ea0b3225bfa0"
   },
   "outputs": [
    {
     "data": {
      "text/plain": [
       "' roadshow   file  nomination paper  also  attempt  show  strength   rule bjp   eastern  region  several minister  ally   party   varanasi   file  nomination expect  friday   bjp win 17   18 lok sabha seat   region  2014 lose  azamgarh  samajwadi party patriarch mulayam singh yadav  repeat  performance   2017 assembly poll   return  power  uttar pradesh   gap  15 years   bjp leaders say modi visit varanasi every  months  meet  residents   last five years     varanasi  least 30 time  say   finance minister arun jaitley tweet  modi’ roadshow  culminate   customary ganga aarti “expresses  one indication—  pm “ well   way  repeat  even increase  2014 victory margin'"
      ]
     },
     "execution_count": 28,
     "metadata": {},
     "output_type": "execute_result"
    }
   ],
   "source": [
    "train.loc[0]['STORY']"
   ]
  },
  {
   "cell_type": "code",
   "execution_count": 29,
   "metadata": {
    "colab": {
     "base_uri": "https://localhost:8080/",
     "height": 54
    },
    "colab_type": "code",
    "id": "CFh6cPAnUEge",
    "outputId": "a7a80334-4038-4d21-803a-a27ddbd23523"
   },
   "outputs": [
    {
     "data": {
      "text/plain": [
       "'privilege     candid  completely non political freewheel conversation   pm narendramodi” kumar write   microblogging site   modi reply   tweet say “dear akshaykumar   good talk    everything except politics  elections  ’ sure people would like watch  conversation'"
      ]
     },
     "execution_count": 29,
     "metadata": {},
     "output_type": "execute_result"
    }
   ],
   "source": [
    "test.loc[0]['STORY']"
   ]
  },
  {
   "cell_type": "code",
   "execution_count": 30,
   "metadata": {
    "colab": {},
    "colab_type": "code",
    "id": "cqYy5Q69Uqtl"
   },
   "outputs": [],
   "source": [
    "for i in [train,test]:\n",
    "  i['STORY'] = i['STORY'].str.replace(\"  \", \" \")\n",
    "  i['STORY'] = i['STORY'].str.replace(\"   \", \" \")    \n",
    "  i['STORY'] = i['STORY'].str.replace(\"    \", \" \")"
   ]
  },
  {
   "cell_type": "code",
   "execution_count": 31,
   "metadata": {
    "colab": {
     "base_uri": "https://localhost:8080/",
     "height": 71
    },
    "colab_type": "code",
    "id": "x3Odqlx8VTlq",
    "outputId": "1fb3c888-8d75-494d-aafc-9eef83e89672"
   },
   "outputs": [
    {
     "name": "stdout",
     "output_type": "stream",
     "text": [
      " roadshow  file nomination paper also attempt show strength  rule bjp  eastern region several minister ally  party  varanasi  file nomination expect friday  bjp win 17  18 lok sabha seat  region 2014 lose azamgarh samajwadi party patriarch mulayam singh yadav repeat performance  2017 assembly poll  return power uttar pradesh  gap 15 years  bjp leaders say modi visit varanasi every months meet residents  last five years varanasi least 30 time say  finance minister arun jaitley tweet modi’ roadshow culminate  customary ganga aarti “expresses one indication— pm “ well  way repeat even increase 2014 victory margin\n",
      "privilege candid completely non political freewheel conversation  pm narendramodi” kumar write  microblogging site  modi reply  tweet say “dear akshaykumar  good talk  everything except politics elections ’ sure people would like watch conversation\n"
     ]
    }
   ],
   "source": [
    "for i in [train,test]:\n",
    "  print(i.loc[0]['STORY'])"
   ]
  },
  {
   "cell_type": "code",
   "execution_count": 32,
   "metadata": {
    "colab": {
     "base_uri": "https://localhost:8080/",
     "height": 204
    },
    "colab_type": "code",
    "id": "5qPlcCqVWZLt",
    "outputId": "f972483b-3074-4822-9cd9-b620b2469b2e"
   },
   "outputs": [
    {
     "data": {
      "text/html": [
       "<div>\n",
       "<style scoped>\n",
       "    .dataframe tbody tr th:only-of-type {\n",
       "        vertical-align: middle;\n",
       "    }\n",
       "\n",
       "    .dataframe tbody tr th {\n",
       "        vertical-align: top;\n",
       "    }\n",
       "\n",
       "    .dataframe thead th {\n",
       "        text-align: right;\n",
       "    }\n",
       "</style>\n",
       "<table border=\"1\" class=\"dataframe\">\n",
       "  <thead>\n",
       "    <tr style=\"text-align: right;\">\n",
       "      <th></th>\n",
       "      <th>STORY</th>\n",
       "    </tr>\n",
       "  </thead>\n",
       "  <tbody>\n",
       "    <tr>\n",
       "      <td>0</td>\n",
       "      <td>privilege candid completely non political free...</td>\n",
       "    </tr>\n",
       "    <tr>\n",
       "      <td>1</td>\n",
       "      <td>6 analysts expect volatility remain high  near...</td>\n",
       "    </tr>\n",
       "    <tr>\n",
       "      <td>2</td>\n",
       "      <td>stop marvel cinematic universe’ latest offer...</td>\n",
       "    </tr>\n",
       "    <tr>\n",
       "      <td>3</td>\n",
       "      <td>accord ravi menon analyst elara securities ind...</td>\n",
       "    </tr>\n",
       "    <tr>\n",
       "      <td>4</td>\n",
       "      <td>complaint nadiadwala know produce hit hindi f...</td>\n",
       "    </tr>\n",
       "  </tbody>\n",
       "</table>\n",
       "</div>"
      ],
      "text/plain": [
       "                                               STORY\n",
       "0  privilege candid completely non political free...\n",
       "1  6 analysts expect volatility remain high  near...\n",
       "2    stop marvel cinematic universe’ latest offer...\n",
       "3  accord ravi menon analyst elara securities ind...\n",
       "4   complaint nadiadwala know produce hit hindi f..."
      ]
     },
     "execution_count": 32,
     "metadata": {},
     "output_type": "execute_result"
    }
   ],
   "source": [
    "test.head()"
   ]
  },
  {
   "cell_type": "markdown",
   "metadata": {
    "colab_type": "text",
    "id": "-TyUpbpnitFT"
   },
   "source": [
    "## EDA"
   ]
  },
  {
   "cell_type": "code",
   "execution_count": 31,
   "metadata": {
    "colab": {},
    "colab_type": "code",
    "id": "qiy4-B-B_DZW"
   },
   "outputs": [],
   "source": [
    "def conver(x):\n",
    "    return x.map({0:'politics',1:'technology',2:'Entertainment',3:'Business'})\n",
    "\n",
    "train_[['SECTION']]=train_[['SECTION']].apply(conver)\n"
   ]
  },
  {
   "cell_type": "code",
   "execution_count": 32,
   "metadata": {
    "colab": {
     "base_uri": "https://localhost:8080/",
     "height": 279
    },
    "colab_type": "code",
    "id": "alsp9Zlj_DZf",
    "outputId": "dff0ff8c-c423-4f27-9b97-6e50c6a2cff2"
   },
   "outputs": [
    {
     "data": {
      "image/png": "[encoded data removed]",
      "text/plain": [
       "<Figure size 432x288 with 1 Axes>"
      ]
     },
     "metadata": {
      "needs_background": "light"
     },
     "output_type": "display_data"
    }
   ],
   "source": [
    "sns.countplot(x='SECTION',data=train_)\n",
    "plt.show()"
   ]
  },
  {
   "cell_type": "markdown",
   "metadata": {},
   "source": [
    "### News length by category"
   ]
  },
  {
   "cell_type": "code",
   "execution_count": 33,
   "metadata": {},
   "outputs": [
    {
     "data": {
      "image/png": "[encoded data removed]",
      "text/plain": [
       "<Figure size 921.6x432 with 1 Axes>"
      ]
     },
     "metadata": {
      "needs_background": "light"
     },
     "output_type": "display_data"
    }
   ],
   "source": [
    "train_['News_length'] = train['STORY'].str.len()\n",
    "\n",
    "plt.figure(figsize=(12.8,6))\n",
    "sns.distplot(train_['News_length']).set_title('News length distribution');"
   ]
  },
  {
   "cell_type": "code",
   "execution_count": 102,
   "metadata": {},
   "outputs": [
    {
     "data": {
      "image/png": "[encoded data removed]",
      "text/plain": [
       "<Figure size 921.6x432 with 1 Axes>"
      ]
     },
     "metadata": {
      "needs_background": "light"
     },
     "output_type": "display_data"
    }
   ],
   "source": [
    "plt.figure(figsize=(12.8,6))\n",
    "sns.boxplot(data=train_, x='SECTION', y='News_length', width=.5);"
   ]
  },
  {
   "cell_type": "code",
   "execution_count": 107,
   "metadata": {
    "scrolled": false
   },
   "outputs": [
    {
     "data": {
      "text/plain": [
       "<Figure size 432x288 with 0 Axes>"
      ]
     },
     "metadata": {},
     "output_type": "display_data"
    },
    {
     "data": {
      "image/png": "[encoded data removed]",
      "text/plain": [
       "<Figure size 1440x864 with 1 Axes>"
      ]
     },
     "metadata": {
      "needs_background": "light"
     },
     "output_type": "display_data"
    }
   ],
   "source": [
    "from wordcloud import WordCloud\n",
    "text = \" \".join(train['STORY'])\n",
    "wordcloud = WordCloud().generate(text)\n",
    "plt.figure()\n",
    "plt.subplots(figsize=(20,12))\n",
    "wordcloud = WordCloud(background_color=\"white\",max_words=len(text),max_font_size=40,relative_scaling=.5).generate(text)\n",
    "plt.imshow(wordcloud)\n",
    "plt.show()"
   ]
  },
  {
   "cell_type": "markdown",
   "metadata": {
    "colab_type": "text",
    "id": "H32UckGXOZ05"
   },
   "source": [
    "## Feature Creation\n",
    "##### We'll use TF-IDF Vectors as features.\n",
    "\n"
   ]
  },
  {
   "cell_type": "code",
   "execution_count": 43,
   "metadata": {
    "colab": {
     "base_uri": "https://localhost:8080/",
     "height": 51
    },
    "colab_type": "code",
    "id": "RRix8xfvOZah",
    "outputId": "29e295cc-1509-48f5-c774-5a5c9f95c606",
    "scrolled": true
   },
   "outputs": [
    {
     "name": "stdout",
     "output_type": "stream",
     "text": [
      "6102\n",
      "1526\n"
     ]
    }
   ],
   "source": [
    "#for Train Dataset.csv\n",
    "\n",
    "tfidf = TfidfVectorizer()\n",
    "                        \n",
    "features_train = tfidf.fit_transform(train['STORY']).toarray()\n",
    "print(len(features_train))\n",
    "\n",
    "#for Test Dataset.csv\n",
    "\n",
    "features_test = tfidf.fit_transform(test['STORY']).toarray()\n",
    "print(len(features_test))"
   ]
  },
  {
   "cell_type": "markdown",
   "metadata": {},
   "source": [
    "### To transform the data and form vectors, and divide them according to the given train & test data."
   ]
  },
  {
   "cell_type": "code",
   "execution_count": 35,
   "metadata": {
    "colab": {},
    "colab_type": "code",
    "id": "NUMO6O3El9Jy"
   },
   "outputs": [],
   "source": [
    "final=x+xts"
   ]
  },
  {
   "cell_type": "code",
   "execution_count": 36,
   "metadata": {
    "colab": {},
    "colab_type": "code",
    "id": "S7qGq-c_oGCi"
   },
   "outputs": [],
   "source": [
    "features=tfidf.fit_transform(final).toarray()"
   ]
  },
  {
   "cell_type": "code",
   "execution_count": 44,
   "metadata": {
    "colab": {},
    "colab_type": "code",
    "id": "8-WCLG8ZpZhX"
   },
   "outputs": [],
   "source": [
    "feat1=features[:len(features_train),:]\n",
    "feat2=features[-len(features_test):,:]"
   ]
  },
  {
   "cell_type": "code",
   "execution_count": 45,
   "metadata": {},
   "outputs": [
    {
     "data": {
      "text/plain": [
       "(1526, 6102)"
      ]
     },
     "execution_count": 45,
     "metadata": {},
     "output_type": "execute_result"
    }
   ],
   "source": [
    "len(feat2),len(feat1)"
   ]
  },
  {
   "cell_type": "markdown",
   "metadata": {
    "colab_type": "text",
    "id": "G-pfx66YOqrK"
   },
   "source": [
    "## Train - test split\n"
   ]
  },
  {
   "cell_type": "code",
   "execution_count": 46,
   "metadata": {
    "colab": {},
    "colab_type": "code",
    "id": "jxnLOctqO95Z"
   },
   "outputs": [],
   "source": [
    "\n",
    "X_train, X_test, y_train, y_test = train_test_split(feat1,train['SECTION'],test_size=0.2, random_state=8)"
   ]
  },
  {
   "cell_type": "code",
   "execution_count": 47,
   "metadata": {
    "colab": {
     "base_uri": "https://localhost:8080/",
     "height": 34
    },
    "colab_type": "code",
    "id": "nou-0Qq0Pl5H",
    "outputId": "fefa35d2-46e8-48c6-efc9-57f0a6e553b8"
   },
   "outputs": [
    {
     "data": {
      "text/plain": [
       "((4881, 33843), (1221, 33843), (4881,), (1221,))"
      ]
     },
     "execution_count": 47,
     "metadata": {},
     "output_type": "execute_result"
    }
   ],
   "source": [
    "X_train.shape, X_test.shape, y_train.shape, y_test.shape"
   ]
  },
  {
   "cell_type": "markdown",
   "metadata": {
    "colab_type": "text",
    "id": "0bLGIEJVXE29"
   },
   "source": [
    "## Model Training"
   ]
  },
  {
   "cell_type": "markdown",
   "metadata": {
    "colab_type": "text",
    "id": "UJDozZ9sYkX7"
   },
   "source": [
    "### Logistic Regression"
   ]
  },
  {
   "cell_type": "code",
   "execution_count": 48,
   "metadata": {
    "colab": {},
    "colab_type": "code",
    "id": "vbvrKoGn_DZ7"
   },
   "outputs": [],
   "source": [
    "from sklearn.preprocessing import StandardScaler\n",
    "from sklearn.linear_model import LogisticRegression\n",
    "from sklearn.multiclass import OneVsRestClassifier"
   ]
  },
  {
   "cell_type": "code",
   "execution_count": 50,
   "metadata": {
    "colab": {},
    "colab_type": "code",
    "id": "7c8VLmLx_DZ-"
   },
   "outputs": [],
   "source": [
    "import warnings\n",
    "warnings.filterwarnings('ignore')\n",
    "logreg = LogisticRegression()\n",
    "ovr = OneVsRestClassifier(logreg)"
   ]
  },
  {
   "cell_type": "code",
   "execution_count": 51,
   "metadata": {
    "colab": {
     "base_uri": "https://localhost:8080/",
     "height": 187
    },
    "colab_type": "code",
    "id": "hVuktOGs_DaB",
    "outputId": "2666f227-1acb-4f09-ada3-3699e55dad3d",
    "scrolled": false
   },
   "outputs": [
    {
     "data": {
      "text/plain": [
       "OneVsRestClassifier(estimator=LogisticRegression(C=1.0, class_weight=None,\n",
       "                                                 dual=False, fit_intercept=True,\n",
       "                                                 intercept_scaling=1,\n",
       "                                                 l1_ratio=None, max_iter=100,\n",
       "                                                 multi_class='warn',\n",
       "                                                 n_jobs=None, penalty='l2',\n",
       "                                                 random_state=None,\n",
       "                                                 solver='warn', tol=0.0001,\n",
       "                                                 verbose=0, warm_start=False),\n",
       "                    n_jobs=None)"
      ]
     },
     "execution_count": 51,
     "metadata": {},
     "output_type": "execute_result"
    }
   ],
   "source": [
    "ovr.fit(X_train, y_train)"
   ]
  },
  {
   "cell_type": "code",
   "execution_count": 52,
   "metadata": {
    "colab": {},
    "colab_type": "code",
    "id": "16uMWUCJ_DaH"
   },
   "outputs": [],
   "source": [
    "from sklearn.metrics import *\n"
   ]
  },
  {
   "cell_type": "code",
   "execution_count": 53,
   "metadata": {
    "colab": {},
    "colab_type": "code",
    "id": "yIfcONBn_DaJ"
   },
   "outputs": [],
   "source": [
    "y_train_pred=ovr.predict(X_train )\n",
    "y_test_pred=ovr.predict(X_test)"
   ]
  },
  {
   "cell_type": "code",
   "execution_count": 54,
   "metadata": {
    "colab": {
     "base_uri": "https://localhost:8080/",
     "height": 357
    },
    "colab_type": "code",
    "id": "bbp5AWl3_DaT",
    "outputId": "96f27bda-5907-460d-aaf0-76cbc95a108e",
    "scrolled": true
   },
   "outputs": [
    {
     "name": "stdout",
     "output_type": "stream",
     "text": [
      "LOGISTIC REGRESSION\n",
      "========================================\n",
      "Accuracy: 0.963964\n",
      "Precision: 0.97\n",
      "Recall: 0.96\n",
      "F1 score: 0.963233\n",
      "----------------------------------------\n"
     ]
    }
   ],
   "source": [
    "g=['Train data','Test data']\n",
    "print('LOGISTIC REGRESSION')\n",
    "\n",
    "print('='*40)\n",
    "accuracy = accuracy_score(y_test, y_test_pred)\n",
    "print('Accuracy: %f' % accuracy)\n",
    "precision = precision_score(y_test, y_test_pred,average='macro')\n",
    "print('Precision: %.2f' % precision)\n",
    "recall = recall_score(y_test, y_test_pred,average='macro')\n",
    "print('Recall: %.2f' % recall,)\n",
    "  \n",
    "f1 = f1_score(y_test, y_test_pred,average='macro')\n",
    "print('F1 score: %f' % f1)\n",
    "print('-'*40)\n",
    "\n",
    "\n",
    "\n"
   ]
  },
  {
   "cell_type": "markdown",
   "metadata": {},
   "source": [
    "### Logistic Regression ( Multinomial)"
   ]
  },
  {
   "cell_type": "code",
   "execution_count": 55,
   "metadata": {
    "colab": {
     "base_uri": "https://localhost:8080/",
     "height": 34
    },
    "colab_type": "code",
    "id": "luhLzML3uqez",
    "outputId": "12ba9230-3a41-4677-816c-623b393f1fa7"
   },
   "outputs": [
    {
     "name": "stdout",
     "output_type": "stream",
     "text": [
      "0.963963963963964\n"
     ]
    }
   ],
   "source": [
    "clf = LogisticRegression(random_state=0, multi_class='multinomial', solver='newton-cg')\n",
    "clf.fit(X_train,y_train)\n",
    "pred=clf.predict(X_test)\n",
    "print(accuracy_score(y_test,pred))"
   ]
  },
  {
   "cell_type": "markdown",
   "metadata": {
    "colab_type": "text",
    "id": "YvG__yRJpaAh"
   },
   "source": [
    "### Random Forest"
   ]
  },
  {
   "cell_type": "code",
   "execution_count": 56,
   "metadata": {
    "colab": {},
    "colab_type": "code",
    "id": "JoDaoHuKpZL5"
   },
   "outputs": [],
   "source": [
    "from sklearn.ensemble import RandomForestClassifier\n",
    "import warnings\n",
    "warnings.filterwarnings('ignore')"
   ]
  },
  {
   "cell_type": "code",
   "execution_count": 57,
   "metadata": {
    "colab": {
     "base_uri": "https://localhost:8080/",
     "height": 153
    },
    "colab_type": "code",
    "id": "PMr1e3jcunI5",
    "outputId": "ed74199d-6719-4507-9e45-79da2b2d5694"
   },
   "outputs": [
    {
     "data": {
      "text/plain": [
       "RandomForestClassifier(bootstrap=True, class_weight=None, criterion='gini',\n",
       "                       max_depth=None, max_features='auto', max_leaf_nodes=None,\n",
       "                       min_impurity_decrease=0.0, min_impurity_split=None,\n",
       "                       min_samples_leaf=1, min_samples_split=2,\n",
       "                       min_weight_fraction_leaf=0.0, n_estimators=10,\n",
       "                       n_jobs=None, oob_score=False, random_state=8, verbose=0,\n",
       "                       warm_start=False)"
      ]
     },
     "execution_count": 57,
     "metadata": {},
     "output_type": "execute_result"
    }
   ],
   "source": [
    "base_model = RandomForestClassifier(random_state = 8)\n",
    "base_model.fit(X_train, y_train)"
   ]
  },
  {
   "cell_type": "code",
   "execution_count": 58,
   "metadata": {
    "colab": {},
    "colab_type": "code",
    "id": "JUpbGSCPXjMQ"
   },
   "outputs": [],
   "source": [
    "y_train_pred2=base_model.predict(X_train )\n",
    "y_test_pred2=base_model.predict(X_test)"
   ]
  },
  {
   "cell_type": "code",
   "execution_count": 59,
   "metadata": {
    "colab": {
     "base_uri": "https://localhost:8080/",
     "height": 357
    },
    "colab_type": "code",
    "id": "XhmH26XIDnMl",
    "outputId": "113dcc36-92ac-4500-ba3a-fb8cad9e3070"
   },
   "outputs": [
    {
     "name": "stdout",
     "output_type": "stream",
     "text": [
      "RANDOM FOREST\n",
      "----------------------------------------\n",
      "TRAIN DATA\n",
      "========================================\n",
      "Accuracy: 0.995083\n",
      "Precision: 1.00\n",
      "Recall: 0.99\n",
      "F1 score: 0.994586\n",
      "----------------------------------------\n",
      "\n",
      "\n",
      "TEST DATA\n",
      "========================================\n",
      "Accuracy: 0.882064\n",
      "Precision: 0.90\n",
      "Recall: 0.86\n",
      "F1 score: 0.870932\n",
      "----------------------------------------\n",
      "\n",
      "\n"
     ]
    }
   ],
   "source": [
    "name='Random Forest'\n",
    "g=['Train data','Test data']\n",
    "print(name.upper())\n",
    "tr=[y_train,y_test]\n",
    "ts=[y_train_pred2, y_test_pred2]\n",
    "print('-'*40)\n",
    "for i,j,k in zip(g,tr,ts):\n",
    "  print(i.upper())\n",
    "  print('='*40)\n",
    "\n",
    "  accuracy = accuracy_score(j, k)\n",
    "  print('Accuracy: %f' % accuracy)\n",
    "  \n",
    "  precision = precision_score(j, k,average='macro')\n",
    "  print('Precision: %.2f' % precision)\n",
    "  \n",
    "  recall = recall_score(j, k,average='macro')\n",
    "  print('Recall: %.2f' % recall,)\n",
    "  \n",
    "  f1 = f1_score(j, k,average='macro')\n",
    "  print('F1 score: %f' % f1)\n",
    "  print('-'*40)\n",
    "\n",
    "\n",
    "\n",
    "  print('\\n')"
   ]
  },
  {
   "cell_type": "markdown",
   "metadata": {
    "colab_type": "text",
    "id": "ZllOtOy9X9dm"
   },
   "source": [
    "## Decision Tree"
   ]
  },
  {
   "cell_type": "code",
   "execution_count": 60,
   "metadata": {
    "colab": {},
    "colab_type": "code",
    "id": "SoyGScyiXUtU"
   },
   "outputs": [],
   "source": [
    "from sklearn.tree import DecisionTreeClassifier\n",
    "\n",
    "clf=DecisionTreeClassifier()"
   ]
  },
  {
   "cell_type": "code",
   "execution_count": 61,
   "metadata": {
    "colab": {
     "base_uri": "https://localhost:8080/",
     "height": 119
    },
    "colab_type": "code",
    "id": "qAoJeQiAYTni",
    "outputId": "7967e529-14bc-4e10-c20f-b75527af5a46"
   },
   "outputs": [
    {
     "data": {
      "text/plain": [
       "DecisionTreeClassifier(class_weight=None, criterion='gini', max_depth=None,\n",
       "                       max_features=None, max_leaf_nodes=None,\n",
       "                       min_impurity_decrease=0.0, min_impurity_split=None,\n",
       "                       min_samples_leaf=1, min_samples_split=2,\n",
       "                       min_weight_fraction_leaf=0.0, presort=False,\n",
       "                       random_state=None, splitter='best')"
      ]
     },
     "execution_count": 61,
     "metadata": {},
     "output_type": "execute_result"
    }
   ],
   "source": [
    "clf.fit(X_train, y_train)"
   ]
  },
  {
   "cell_type": "code",
   "execution_count": 62,
   "metadata": {
    "colab": {},
    "colab_type": "code",
    "id": "dzH2M-a6YgS2"
   },
   "outputs": [],
   "source": [
    "y_train_pred3=clf.predict(X_train )\n",
    "y_test_pred3=clf.predict(X_test)"
   ]
  },
  {
   "cell_type": "code",
   "execution_count": 63,
   "metadata": {
    "colab": {
     "base_uri": "https://localhost:8080/",
     "height": 357
    },
    "colab_type": "code",
    "id": "a7ugQdJdYmIC",
    "outputId": "2cda7de9-2dc0-448f-d603-706c264e7330"
   },
   "outputs": [
    {
     "name": "stdout",
     "output_type": "stream",
     "text": [
      "DECISION TREE\n",
      "----------------------------------------\n",
      "TRAIN DATA\n",
      "========================================\n",
      "Accuracy: 0.997541\n",
      "Precision: 1.00\n",
      "Recall: 1.00\n",
      "F1 score: 0.997476\n",
      "----------------------------------------\n",
      "\n",
      "\n",
      "TEST DATA\n",
      "========================================\n",
      "Accuracy: 0.832924\n",
      "Precision: 0.83\n",
      "Recall: 0.83\n",
      "F1 score: 0.828690\n",
      "----------------------------------------\n",
      "\n",
      "\n"
     ]
    }
   ],
   "source": [
    "name='Decision Tree'\n",
    "g=['Train data','Test data']\n",
    "print(name.upper())\n",
    "tr=[y_train,y_test]\n",
    "ts=[y_train_pred3, y_test_pred3]\n",
    "print('-'*40)\n",
    "for i,j,k in zip(g,tr,ts):\n",
    "  print(i.upper())\n",
    "  print('='*40)\n",
    "  accuracy = accuracy_score(j, k)\n",
    "  print('Accuracy: %f' % accuracy)  \n",
    "  precision = precision_score(j, k,average='macro')\n",
    "  print('Precision: %.2f' % precision)\n",
    "  recall = recall_score(j, k,average='macro')\n",
    "  print('Recall: %.2f' % recall,)\n",
    "  f1 = f1_score(j, k,average='macro')\n",
    "  print('F1 score: %f' % f1)\n",
    "  print('-'*40)\n",
    "  print('\\n')"
   ]
  },
  {
   "cell_type": "markdown",
   "metadata": {},
   "source": [
    "### Classification Report and Confusion matrix to get more idea about performance of different models"
   ]
  },
  {
   "cell_type": "code",
   "execution_count": 64,
   "metadata": {
    "colab": {
     "base_uri": "https://localhost:8080/",
     "height": 1000
    },
    "colab_type": "code",
    "id": "C9Hmf2q2YyBx",
    "outputId": "1be29445-32d9-4394-d19a-90e9c407b0e8",
    "scrolled": false
   },
   "outputs": [
    {
     "name": "stdout",
     "output_type": "stream",
     "text": [
      "========================================\n",
      "LOGISTIC REGRESSION-ONEVSREST CLASSIFIER\n",
      "========================================\n",
      "              precision    recall  f1-score   support\n",
      "\n",
      "           0       0.96      0.93      0.95       268\n",
      "           1       0.97      0.98      0.97       452\n",
      "           2       0.95      0.97      0.96       316\n",
      "           3       0.99      0.96      0.97       185\n",
      "\n",
      "    accuracy                           0.96      1221\n",
      "   macro avg       0.97      0.96      0.96      1221\n",
      "weighted avg       0.96      0.96      0.96      1221\n",
      "\n",
      "----------------------------------------\n",
      "\n",
      "\n",
      "[[250   8  10   0]\n",
      " [  2 443   5   2]\n",
      " [  8   1 307   0]\n",
      " [  0   7   1 177]]\n",
      "\n",
      "\n",
      "========================================\n",
      "LOGISTIC REGRESSION-MULTINOMINAL\n",
      "========================================\n",
      "              precision    recall  f1-score   support\n",
      "\n",
      "           0       0.96      0.93      0.95       268\n",
      "           1       0.97      0.98      0.97       452\n",
      "           2       0.95      0.97      0.96       316\n",
      "           3       0.99      0.95      0.97       185\n",
      "\n",
      "    accuracy                           0.96      1221\n",
      "   macro avg       0.97      0.96      0.96      1221\n",
      "weighted avg       0.96      0.96      0.96      1221\n",
      "\n",
      "----------------------------------------\n",
      "\n",
      "\n",
      "[[250   7  11   0]\n",
      " [  2 444   5   1]\n",
      " [  8   1 307   0]\n",
      " [  0   8   1 176]]\n",
      "\n",
      "\n",
      "========================================\n",
      "RANDOM FOREST\n",
      "========================================\n",
      "              precision    recall  f1-score   support\n",
      "\n",
      "           0       0.91      0.90      0.91       268\n",
      "           1       0.86      0.93      0.89       452\n",
      "           2       0.86      0.92      0.89       316\n",
      "           3       0.95      0.68      0.79       185\n",
      "\n",
      "    accuracy                           0.88      1221\n",
      "   macro avg       0.90      0.86      0.87      1221\n",
      "weighted avg       0.89      0.88      0.88      1221\n",
      "\n",
      "----------------------------------------\n",
      "\n",
      "\n",
      "[[241  14  11   2]\n",
      " [  9 419  21   3]\n",
      " [  8  16 291   1]\n",
      " [  6  39  14 126]]\n",
      "\n",
      "\n",
      "========================================\n",
      "DECISION TREE\n",
      "========================================\n",
      "              precision    recall  f1-score   support\n",
      "\n",
      "           0       0.88      0.85      0.87       268\n",
      "           1       0.82      0.83      0.83       452\n",
      "           2       0.84      0.86      0.85       316\n",
      "           3       0.78      0.77      0.77       185\n",
      "\n",
      "    accuracy                           0.83      1221\n",
      "   macro avg       0.83      0.83      0.83      1221\n",
      "weighted avg       0.83      0.83      0.83      1221\n",
      "\n",
      "----------------------------------------\n",
      "\n",
      "\n",
      "[[228  21  13   6]\n",
      " [ 16 375  29  32]\n",
      " [ 10  31 272   3]\n",
      " [  5  30   8 142]]\n",
      "\n",
      "\n"
     ]
    }
   ],
   "source": [
    "names=['Logistic Regression-OneVsRest Classifier','Logistic Regression-Multinominal','Random Forest','Decision Tree']\n",
    "j=[y_test_pred,pred,y_test_pred2,y_test_pred3] \n",
    "for name, j in zip(names,j):\n",
    "    print('='*40)\n",
    "    print(name.upper()) \n",
    "    print('='*40)\n",
    "    print(classification_report(y_test,j))\n",
    "    print('-'*40)\n",
    "    print('\\n') \n",
    "    print(confusion_matrix(y_test,j))\n",
    "    print('\\n')"
   ]
  },
  {
   "cell_type": "code",
   "execution_count": 65,
   "metadata": {},
   "outputs": [],
   "source": [
    "from sklearn.metrics import *"
   ]
  },
  {
   "cell_type": "code",
   "execution_count": 66,
   "metadata": {},
   "outputs": [
    {
     "name": "stdout",
     "output_type": "stream",
     "text": [
      "-------------ACCURACY SCORE-----------------\n",
      "========================================\n",
      "LR: 0.963964\n",
      "========================================\n",
      "Decision Tree: 0.836200\n",
      "========================================\n",
      "RandomForest: 0.882064\n",
      "\n",
      "\n"
     ]
    }
   ],
   "source": [
    "# prepare models\n",
    "models = []\n",
    "models.append(('LR', LogisticRegression(random_state=0, multi_class='multinomial', solver='newton-cg')))\n",
    "models.append(('Decision Tree', DecisionTreeClassifier()))\n",
    "models.append(('RandomForest',RandomForestClassifier(random_state = 8)))\n",
    "# evaluate each model in turn\n",
    "results = []\n",
    "names = []\n",
    "print('-------------ACCURACY SCORE-----------------')\n",
    "for name, model in models:\n",
    "    model.fit(X_train,y_train)\n",
    "    y_pred_class = model.predict(X_test)\n",
    "    acc=accuracy_score(y_test, y_pred_class)\n",
    "    results.append(acc)\n",
    "    names.append(name)\n",
    "    print('='*40)\n",
    "    print(\"%s: %f\" %(name, acc))\n",
    "print('\\n')"
   ]
  },
  {
   "cell_type": "markdown",
   "metadata": {},
   "source": [
    "###### This problem seems to be a classification problem as we have 4 classes, this seems to be a multi-class classification. Here in our NLP based problem which we have to select which of the class out of the 4 options, this test data should fall into. All the necessary steps to develop a service that can be used by any user in a simple way:  Getting data ,Preparing and parsing the data , Exploring the data, Creating features from data ,Training a model, Evaluating the performance of the model,Predicting for new input.\n",
    "###### .\n",
    "###### Looking at the data we can figure out that there would be a clear margin of separation between the points and here we have good number of training data so I chose Random Forest, since tree model Decision tree,Logistic Regression(Multiclass)  and One Vs rest Classifier ( estimator = Logistic Regression) are having a chance of overfitting. When dealing with classification problems, there are several metrics that can be used to gain insights on how the model is performing. Some of them are:  Accuracy, Precision,  Recall , F1-Score\n"
   ]
  },
  {
   "cell_type": "code",
   "execution_count": 67,
   "metadata": {},
   "outputs": [],
   "source": [
    "\n",
    "ovr_y=ovr.predict(feat2)\n",
    "rf_y=base_model.predict(feat2)\n",
    "dt_y=clf.predict(feat2)"
   ]
  },
  {
   "cell_type": "code",
   "execution_count": 71,
   "metadata": {
    "colab": {},
    "colab_type": "code",
    "id": "1_euxeKRyFu6"
   },
   "outputs": [],
   "source": [
    "#preparing the csv file\n",
    "\n",
    "submission1={\"SECTION\":ovr_y}\n",
    "submission=pd.DataFrame(submission1)\n",
    "submission.to_csv(\"NEWS_LR.csv\",index=False)"
   ]
  },
  {
   "cell_type": "code",
   "execution_count": 72,
   "metadata": {},
   "outputs": [],
   "source": [
    "\n",
    "submission2={\"SECTION\":rf_y}\n",
    "submission=pd.DataFrame(submission2)\n",
    "submission.to_csv(\"NEWS_RF.csv\",index=False)"
   ]
  },
  {
   "cell_type": "code",
   "execution_count": 73,
   "metadata": {},
   "outputs": [],
   "source": [
    "\n",
    "\n",
    "submission3={\"SECTION\":dt_y}\n",
    "submission=pd.DataFrame(submission3)\n",
    "submission.to_csv(\"NEWS_DT.csv\",index=False)"
   ]
  },
  {
   "cell_type": "code",
   "execution_count": null,
   "metadata": {},
   "outputs": [],
   "source": []
  }
 ],
 "metadata": {
  "colab": {
   "collapsed_sections": [],
   "machine_shape": "hm",
   "name": "Predict News Category.ipynb",
   "provenance": [],
   "toc_visible": true
  },
  "kernelspec": {
   "display_name": "Python 3",
   "language": "python",
   "name": "python3"
  },
  "language_info": {
   "codemirror_mode": {
    "name": "ipython",
    "version": 3
   },
   "file_extension": ".py",
   "mimetype": "text/x-python",
   "name": "python",
   "nbconvert_exporter": "python",
   "pygments_lexer": "ipython3",
   "version": "3.7.4"
  }
 },
 "nbformat": 4,
 "nbformat_minor": 1
}
